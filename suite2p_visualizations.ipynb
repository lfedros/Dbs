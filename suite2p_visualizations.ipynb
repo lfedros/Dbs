{
  "nbformat": 4,
  "nbformat_minor": 0,
  "metadata": {
    "colab": {
      "provenance": [],
      "include_colab_link": true
    },
    "kernelspec": {
      "name": "python3",
      "display_name": "Python 3"
    },
    "language_info": {
      "name": "python"
    }
  },
  "cells": [
    {
      "cell_type": "markdown",
      "metadata": {
        "id": "view-in-github",
        "colab_type": "text"
      },
      "source": [
        "<a href=\"https://colab.research.google.com/github/lfedros/Dbs/blob/main/suite2p_visualizations.ipynb\" target=\"_parent\"><img src=\"https://colab.research.google.com/assets/colab-badge.svg\" alt=\"Open In Colab\"/></a>"
      ]
    },
    {
      "cell_type": "code",
      "source": [
        "#link your google drive to get the data\n",
        "from google.colab import drive\n",
        "drive.mount('/content/drive')"
      ],
      "metadata": {
        "id": "-fpiD6hUIZvo",
        "colab": {
          "base_uri": "https://localhost:8080/"
        },
        "outputId": "c4f19256-8166-4d42-bd79-f5c02cda2ee8"
      },
      "execution_count": 1,
      "outputs": [
        {
          "output_type": "stream",
          "name": "stdout",
          "text": [
            "Mounted at /content/drive\n"
          ]
        }
      ]
    },
    {
      "cell_type": "code",
      "execution_count": 2,
      "metadata": {
        "id": "dVexk5JKWp6e",
        "colab": {
          "base_uri": "https://localhost:8080/"
        },
        "outputId": "ce40acb1-9240-45d2-98f0-70b0dfdfa68f"
      },
      "outputs": [
        {
          "output_type": "stream",
          "name": "stdout",
          "text": [
            "Requirement already satisfied: numpy in /usr/local/lib/python3.12/dist-packages (2.0.2)\n",
            "Requirement already satisfied: matplotlib in /usr/local/lib/python3.12/dist-packages (3.10.0)\n",
            "Requirement already satisfied: contourpy>=1.0.1 in /usr/local/lib/python3.12/dist-packages (from matplotlib) (1.3.3)\n",
            "Requirement already satisfied: cycler>=0.10 in /usr/local/lib/python3.12/dist-packages (from matplotlib) (0.12.1)\n",
            "Requirement already satisfied: fonttools>=4.22.0 in /usr/local/lib/python3.12/dist-packages (from matplotlib) (4.60.1)\n",
            "Requirement already satisfied: kiwisolver>=1.3.1 in /usr/local/lib/python3.12/dist-packages (from matplotlib) (1.4.9)\n",
            "Requirement already satisfied: numpy>=1.23 in /usr/local/lib/python3.12/dist-packages (from matplotlib) (2.0.2)\n",
            "Requirement already satisfied: packaging>=20.0 in /usr/local/lib/python3.12/dist-packages (from matplotlib) (25.0)\n",
            "Requirement already satisfied: pillow>=8 in /usr/local/lib/python3.12/dist-packages (from matplotlib) (11.3.0)\n",
            "Requirement already satisfied: pyparsing>=2.3.1 in /usr/local/lib/python3.12/dist-packages (from matplotlib) (3.2.5)\n",
            "Requirement already satisfied: python-dateutil>=2.7 in /usr/local/lib/python3.12/dist-packages (from matplotlib) (2.9.0.post0)\n",
            "Requirement already satisfied: six>=1.5 in /usr/local/lib/python3.12/dist-packages (from python-dateutil>=2.7->matplotlib) (1.17.0)\n"
          ]
        }
      ],
      "source": [
        "!pip install numpy\n",
        "!pip install matplotlib\n",
        "\n",
        "import numpy as np\n",
        "from scipy.stats import zscore\n",
        "import matplotlib.pyplot as plt\n",
        "from scipy.ndimage import gaussian_filter1d\n",
        "from matplotlib.patches import Polygon"
      ]
    },
    {
      "cell_type": "code",
      "source": [
        "#load data\n",
        "\n",
        "# ROIs signals\n",
        "F = np.load('/content/drive/MyDrive/suite2p_tutorial/Data/1P_miniscope/Long/1/suite2p/plane0/F.npy', allow_pickle=True)\n",
        "# neuropil signals\n",
        "Fneu = np.load('/content/drive/MyDrive/suite2p_tutorial/Data/1P_miniscope/Long/1/suite2p/plane0/Fneu.npy', allow_pickle=True)\n",
        "# spks deconvolved rates\n",
        "spks = np.load('/content/drive/MyDrive/suite2p_tutorial/Data/1P_miniscope/Long/1/suite2p/plane0/spks.npy', allow_pickle=True)\n",
        "# stat contains statistics about each detected ROI\n",
        "stat = np.load('/content/drive/MyDrive/suite2p_tutorial/Data/1P_miniscope/Long/1/suite2p/plane0/stat.npy', allow_pickle=True)\n",
        "# ops contains the parameters used to run s2p, plus some other that are computed - e.g. mean images, registration target etc\n",
        "ops =  np.load('/content/drive/MyDrive/suite2p_tutorial/Data/1P_miniscope/Long/1/suite2p/plane0/ops.npy', allow_pickle=True)\n",
        "ops = ops.item()\n",
        "# classifier info\n",
        "iscell = np.load('/content/drive/MyDrive/suite2p_tutorial/Data/1P_miniscope/Long/1/suite2p/plane0/iscell.npy', allow_pickle=True)"
      ],
      "metadata": {
        "id": "HGyDCIOeW8k9"
      },
      "execution_count": 3,
      "outputs": []
    },
    {
      "cell_type": "code",
      "source": [
        "#select cells and define intermediate values\n",
        "neurons_raw = F[iscell[:, 0].astype(bool), :]\n",
        "nN, nFrames = neurons_raw.shape\n",
        "frameTime = np.arange(1, nFrames + 1) / ops['fs']"
      ],
      "metadata": {
        "id": "Vxb-JDe5W9ds"
      },
      "execution_count": null,
      "outputs": []
    },
    {
      "cell_type": "code",
      "source": [
        "#correct for neuropil and zscore\n",
        "neuropil = Fneu[iscell[:,0].astype(bool),:]\n",
        "neurons = F - Fneu\n",
        "neurons = zscore(neurons, axis=1)"
      ],
      "metadata": {
        "id": "lE0xOoCmXB0i"
      },
      "execution_count": null,
      "outputs": []
    },
    {
      "cell_type": "code",
      "source": [
        "#smooth\n",
        "neurons_smooth = gaussian_filter1d(neurons, sigma=1.5, axis=1)\n",
        "plt.figure(figsize=(12, 6))\n",
        "plt.plot(frameTime, neurons[10,:], label='Noisy')\n",
        "plt.plot(frameTime, neurons_smooth[10,:], label='Smoothed', linewidth=2)\n",
        "plt.xlabel('Seconds')\n",
        "plt.ylabel('Z-scored fluorescence')\n",
        "plt.legend()\n",
        "plt.show()"
      ],
      "metadata": {
        "id": "wduwqfxpXEmY"
      },
      "execution_count": null,
      "outputs": []
    },
    {
      "cell_type": "code",
      "source": [
        "#remove frame artifacts\n",
        "\n",
        "# Calculate difference of mean values across columns\n",
        "dPop = np.diff(np.mean(neurons, axis=0), prepend=0)\n",
        "\n",
        "# Identify artifacts where change is > 50\n",
        "artefacts = np.abs(dPop) > 50\n",
        "\n",
        "# Set artifact columns to NaN\n",
        "neurons[:, artefacts] = np.nan\n",
        "Fneu[:, artefacts] = np.nan\n",
        "\n",
        "#define a function to interpolate across the nans\n",
        "def interpNaN(array):\n",
        "    array = array.copy()\n",
        "    nans = np.isnan(array)\n",
        "    x = nans.nonzero()[0]\n",
        "    xp = (~nans).nonzero()[0]\n",
        "    fp = array[~nans]\n",
        "    array[nans] = np.interp(x, xp, fp)\n",
        "    return array\n",
        "\n",
        "# If artifacts found, interpolate NaNs along each row\n",
        "if np.sum(artefacts) > 0:\n",
        "    for iN in range(nN):\n",
        "        neurons[iN, :] = interpNaN(neurons[iN, :])\n",
        "        Fneu[iN, :] = interpNaN(Fneu[iN, :])\n"
      ],
      "metadata": {
        "id": "g5dieHOZcxK1"
      },
      "execution_count": null,
      "outputs": []
    },
    {
      "cell_type": "code",
      "source": [
        "#debleach?"
      ],
      "metadata": {
        "id": "B94juanLXIF4"
      },
      "execution_count": null,
      "outputs": []
    },
    {
      "cell_type": "code",
      "source": [
        "#plot first n neurons' z-scored fluorescence traces\n",
        "n = 1 #how many neurons' traces do you want to visualize\n",
        "offset = 5 #so the traces don't overlap\n",
        "plt.figure(figsize=(12, 6))\n",
        "for i in range(min(n, neurons.shape[0])):\n",
        "    plt.plot(frameTime, neurons[i] + i * offset, label=f'Neuron {i+1}')\n",
        "plt.xlabel('Seconds')\n",
        "plt.ylabel('Z-scored fluorescence')\n",
        "plt.title('Fluorescence traces')\n",
        "plt.show()"
      ],
      "metadata": {
        "id": "FnKg8_qnXg1J"
      },
      "execution_count": null,
      "outputs": []
    },
    {
      "cell_type": "code",
      "source": [
        "#heatmap of many neurons' activity\n",
        "from matplotlib.ticker import MaxNLocator\n",
        "fluo_interval = 10 #to visualize every nth neuron in the recording\n",
        "plt.figure(figsize=(10, 8))\n",
        "plt.imshow(neurons[0::fluo_interval,:], aspect='auto', cmap='viridis')\n",
        "plt.colorbar(label='Z-scored fluorescence')\n",
        "plt.xlabel('Frame')\n",
        "plt.ylabel('Neuron')\n",
        "plt.title('Heatmap of neural activity')\n",
        "ax = plt.gca()\n",
        "ax.yaxis.set_major_locator(MaxNLocator(integer=True))\n",
        "plt.show()"
      ],
      "metadata": {
        "id": "1VPsl5cXXnYp"
      },
      "execution_count": null,
      "outputs": []
    },
    {
      "cell_type": "code",
      "source": [
        "#raster plot of deconvolved spikes\n",
        "spike_interval = 5 #to visualize every nth neuron in the recording\n",
        "plt.figure(figsize=(12, 6))\n",
        "plt.imshow(spks[0::spike_interval,:], aspect='auto', cmap='Greys', interpolation='none')\n",
        "plt.xlabel('Frame')\n",
        "plt.ylabel('Neurons')\n",
        "plt.title('Raster plot')\n",
        "plt.show()\n"
      ],
      "metadata": {
        "id": "wUQoRmqqYyNv"
      },
      "execution_count": null,
      "outputs": []
    },
    {
      "cell_type": "code",
      "source": [
        "#But this is hard to make sense of. Let's sort the neurons based on the similarity of their activity.\n",
        "!pip install rastermap\n",
        "from rastermap import Rastermap, utils\n",
        "n_neurons, n_time = spks.shape\n",
        "print(f\"{n_neurons} neurons by {n_time} timepoints\")\n",
        "spks = zscore(spks, axis=1)\n",
        "model = Rastermap(n_clusters=50, # number of clusters to compute\n",
        "                  n_PCs=128, # number of PCs to use\n",
        "                  locality=0.75, # locality in sorting to find sequences (this is a value from 0-1)\n",
        "                  time_lag_window=5, # use future timepoints to compute correlation\n",
        "                  grid_upsample=10, # default value, 10 is good for large recordings\n",
        "                ).fit(spks)\n",
        "y = model.embedding\n",
        "isort = model.isort #this is the array we use to sort our data\n",
        "sorted_data = spks[isort, :]\n",
        "plt.figure(figsize=(12, 6))\n",
        "plt.imshow(sorted_data, aspect='auto', cmap='Greys', interpolation='none')\n",
        "plt.xlabel('Frame')\n",
        "plt.ylabel('Neurons (sorted)')\n",
        "plt.title('Raster plot sorted by activity')\n",
        "plt.show()"
      ],
      "metadata": {
        "id": "6ZjAhqA-Txzq"
      },
      "execution_count": null,
      "outputs": []
    },
    {
      "cell_type": "code",
      "source": [
        "#show ROIs overlaid on the mean image\n",
        "mean_image = ops['meanImg']\n",
        "plt.imshow(mean_image, cmap='gray')\n",
        "\n",
        "for roi in stat:\n",
        "    # Each 'stat' entry has 'xpix' and 'ypix' for ROI pixel coordinates\n",
        "    x = roi['xpix']\n",
        "    y = roi['ypix']\n",
        "    # Create a polygon around ROI pixels and add it to the plot\n",
        "    # Closing the polygon by repeating the first point\n",
        "    poly = Polygon(np.array([x,y]).T, fill = None, edgecolor='r', alpha=0.1)\n",
        "    plt.gca().add_patch(poly)\n",
        "plt.title('ROIs overlay on mean image')\n",
        "plt.show()"
      ],
      "metadata": {
        "id": "aLS8rNX0Y8V3"
      },
      "execution_count": null,
      "outputs": []
    }
  ]
}